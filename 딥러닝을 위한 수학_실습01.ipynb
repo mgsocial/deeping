{
 "cells": [
  {
   "cell_type": "markdown",
   "metadata": {},
   "source": [
    "## 경사하강법"
   ]
  },
  {
   "cell_type": "code",
   "execution_count": 1,
   "metadata": {},
   "outputs": [],
   "source": [
    "# 필요 라이브러리 선언\n",
    "import numpy as np\n",
    "import matplotlib.pyplot as plt\n",
    "\n",
    "%matplotlib inline"
   ]
  },
  {
   "cell_type": "code",
   "execution_count": 34,
   "metadata": {},
   "outputs": [],
   "source": [
    "# 학습용 데이터 준비\n",
    "from sklearn.datasets import load_boston\n",
    "\n",
    "boston = load_boston()\n",
    "x_origin, yt = boston.data, boston.target\n",
    "feature_names = boston.feature_names\n",
    "\n",
    "# RM 데이터\n",
    "x_data = x_origin[:, feature_names == 'RM']\n",
    "\n",
    "# 더미 변수 추가\n",
    "x = np.insert(x_data, 0, 1.0, axis = 1)"
   ]
  },
  {
   "cell_type": "markdown",
   "metadata": {},
   "source": [
    "### 데이터 확인"
   ]
  },
  {
   "cell_type": "code",
   "execution_count": 11,
   "metadata": {},
   "outputs": [
    {
     "name": "stdout",
     "output_type": "stream",
     "text": [
      "(506, 2)\n",
      "[[1.    6.575]\n",
      " [1.    6.421]\n",
      " [1.    7.185]\n",
      " [1.    6.998]\n",
      " [1.    7.147]]\n"
     ]
    }
   ],
   "source": [
    "# 입력 데이터 x를 표시\n",
    "print(x.shape)\n",
    "print(x[:5,:])"
   ]
  },
  {
   "cell_type": "code",
   "execution_count": 12,
   "metadata": {},
   "outputs": [
    {
     "name": "stdout",
     "output_type": "stream",
     "text": [
      "[24.  21.6 34.7 33.4 36.2]\n"
     ]
    }
   ],
   "source": [
    "# 정답값 표시\n",
    "print(yt[:5])"
   ]
  },
  {
   "cell_type": "code",
   "execution_count": 15,
   "metadata": {},
   "outputs": [],
   "source": [
    "# 예측함수 (1, x)의 값에서 예측값 yp 계산\n",
    "\n",
    "def pred(x, w):\n",
    "    return (x @ w)"
   ]
  },
  {
   "cell_type": "markdown",
   "metadata": {},
   "source": [
    "### 초기화 처리"
   ]
  },
  {
   "cell_type": "code",
   "execution_count": 25,
   "metadata": {},
   "outputs": [],
   "source": [
    "# 데이터 전체 건수\n",
    "M = x.shape[0]\n",
    "\n",
    "# 입력 데이터의 차수(더미 변수 포함)\n",
    "D = x.shape[1]\n",
    "\n",
    "\n",
    "# 반복횟수\n",
    "iters = 50000\n",
    "\n",
    "# 학습률\n",
    "alpha = 0.01"
   ]
  },
  {
   "cell_type": "code",
   "execution_count": 26,
   "metadata": {},
   "outputs": [],
   "source": [
    "# 가중치 벡터의 초깃값(모든 값을 1로 한다)\n",
    "w = np.ones(D)\n",
    "\n",
    "# 평가 결과 기록(손실함수의 값만 기록)\n",
    "history = np.zeros((0,2))"
   ]
  },
  {
   "cell_type": "markdown",
   "metadata": {},
   "source": [
    "### 주요 처리"
   ]
  },
  {
   "cell_type": "code",
   "execution_count": 27,
   "metadata": {},
   "outputs": [
    {
     "name": "stdout",
     "output_type": "stream",
     "text": [
      "iter = 0 loss = 154.224934\n",
      "iter = 1000 loss = 28.096145\n",
      "iter = 2000 loss = 26.750372\n",
      "iter = 3000 loss = 25.692265\n",
      "iter = 4000 loss = 24.860333\n",
      "iter = 5000 loss = 24.206231\n",
      "iter = 6000 loss = 23.691946\n",
      "iter = 7000 loss = 23.287592\n",
      "iter = 8000 loss = 22.969671\n",
      "iter = 9000 loss = 22.719707\n",
      "iter = 10000 loss = 22.523174\n",
      "iter = 11000 loss = 22.368651\n",
      "iter = 12000 loss = 22.247158\n",
      "iter = 13000 loss = 22.151635\n",
      "iter = 14000 loss = 22.076530\n",
      "iter = 15000 loss = 22.017479\n",
      "iter = 16000 loss = 21.971051\n",
      "iter = 17000 loss = 21.934547\n",
      "iter = 18000 loss = 21.905846\n",
      "iter = 19000 loss = 21.883280\n",
      "iter = 20000 loss = 21.865537\n",
      "iter = 21000 loss = 21.851587\n",
      "iter = 22000 loss = 21.840619\n",
      "iter = 23000 loss = 21.831996\n",
      "iter = 24000 loss = 21.825215\n",
      "iter = 25000 loss = 21.819884\n",
      "iter = 26000 loss = 21.815693\n",
      "iter = 27000 loss = 21.812398\n",
      "iter = 28000 loss = 21.809806\n",
      "iter = 29000 loss = 21.807769\n",
      "iter = 30000 loss = 21.806168\n",
      "iter = 31000 loss = 21.804908\n",
      "iter = 32000 loss = 21.803918\n",
      "iter = 33000 loss = 21.803139\n",
      "iter = 34000 loss = 21.802527\n",
      "iter = 35000 loss = 21.802046\n",
      "iter = 36000 loss = 21.801668\n",
      "iter = 37000 loss = 21.801370\n",
      "iter = 38000 loss = 21.801136\n",
      "iter = 39000 loss = 21.800952\n",
      "iter = 40000 loss = 21.800808\n",
      "iter = 41000 loss = 21.800694\n",
      "iter = 42000 loss = 21.800605\n",
      "iter = 43000 loss = 21.800534\n",
      "iter = 44000 loss = 21.800479\n",
      "iter = 45000 loss = 21.800436\n",
      "iter = 46000 loss = 21.800402\n",
      "iter = 47000 loss = 21.800375\n",
      "iter = 48000 loss = 21.800354\n",
      "iter = 49000 loss = 21.800337\n"
     ]
    }
   ],
   "source": [
    "# 반복 루프\n",
    "\n",
    "for k in range(iters):\n",
    "    \n",
    "    # 예측값\n",
    "    yp = pred(x, w)\n",
    "    \n",
    "    # 오차 계산\n",
    "    yd = yp - yt\n",
    "    \n",
    "    # 경사하강법 적용\n",
    "    w = w - alpha * (x.T @ yd) / M\n",
    "    \n",
    "    # 학습 곡선을 그리기 위한 데이터 계산 및 저장\n",
    "    if (k % 1000 == 0):\n",
    "        # 손실함숫값의 꼐산\n",
    "        loss = np.mean(yd**2) / 2\n",
    "        \n",
    "        # 계산 결과 기록\n",
    "        history = np.vstack((history, np.array([k, loss])))\n",
    "        # 화면 표시\n",
    "        print(\"iter = %d loss = %f\" % (k, loss))"
   ]
  },
  {
   "cell_type": "code",
   "execution_count": 28,
   "metadata": {},
   "outputs": [
    {
     "name": "stdout",
     "output_type": "stream",
     "text": [
      "손실함수 초깃값: 154.224934\n",
      "손실함수 최종값: 21.800337\n"
     ]
    }
   ],
   "source": [
    "# 최종 손실함수 초깃값, 최종값\n",
    "print('손실함수 초깃값: %f' % history[0,1])\n",
    "print('손실함수 최종값: %f' % history[-1,1])"
   ]
  },
  {
   "cell_type": "code",
   "execution_count": 29,
   "metadata": {},
   "outputs": [
    {
     "data": {
      "image/png": "[encoded data removed]",
      "text/plain": [
       "<Figure size 432x432 with 1 Axes>"
      ]
     },
     "metadata": {
      "needs_background": "light"
     },
     "output_type": "display_data"
    }
   ],
   "source": [
    "# 다음 직선을 그리기 위한 좌푯값 계산\n",
    "xall = x[:,1].ravel()\n",
    "x1 = np.array([[1, xall.min()], [1, xall.max()]])\n",
    "y1 = pred(x1, w)\n",
    "\n",
    "# 산점도와 회귀 직선 그리기\n",
    "plt.figure(figsize=(6,6))\n",
    "plt.scatter(x[:,1], yt, s=10, c='b')\n",
    "plt.xlabel('ROOM', fontsize = 14)\n",
    "plt.ylabel('PRICE', fontsize = 14)\n",
    "plt.plot(x1[:, 1], y1, c = 'k')\n",
    "plt.show()"
   ]
  },
  {
   "cell_type": "code",
   "execution_count": 30,
   "metadata": {},
   "outputs": [
    {
     "data": {
      "image/png": "[encoded data removed]",
      "text/plain": [
       "<Figure size 432x288 with 1 Axes>"
      ]
     },
     "metadata": {
      "needs_background": "light"
     },
     "output_type": "display_data"
    }
   ],
   "source": [
    "# 학습 곡선의 표시\n",
    "plt.plot(history[1:,0], history[1:,1])\n",
    "plt.show()"
   ]
  },
  {
   "cell_type": "markdown",
   "metadata": {},
   "source": [
    "## 다중회귀"
   ]
  },
  {
   "cell_type": "code",
   "execution_count": 41,
   "metadata": {},
   "outputs": [
    {
     "name": "stdout",
     "output_type": "stream",
     "text": [
      "(506, 3)\n"
     ]
    }
   ],
   "source": [
    "# 열 추가\n",
    "x_add = x_origin[:, feature_names == 'LSTAT']\n",
    "\n",
    "x2 = np.hstack((x, x_add))\n",
    "print(x2.shape)"
   ]
  },
  {
   "cell_type": "code",
   "execution_count": 42,
   "metadata": {},
   "outputs": [
    {
     "name": "stdout",
     "output_type": "stream",
     "text": [
      "[[1.    6.575 4.98 ]\n",
      " [1.    6.421 9.14 ]\n",
      " [1.    7.185 4.03 ]\n",
      " [1.    6.998 2.94 ]\n",
      " [1.    7.147 5.33 ]]\n"
     ]
    }
   ],
   "source": [
    "# 입력 데이터 x 표시 (더미 데이터 포함)\n",
    "print(x2[:5,:])"
   ]
  },
  {
   "cell_type": "code",
   "execution_count": 50,
   "metadata": {},
   "outputs": [],
   "source": [
    "M = x2.shape[0]\n",
    "D = x2.shape[1]\n",
    "\n",
    "iters = 2000\n",
    "\n",
    "alpha = 0.001\n",
    "\n",
    "w = np.ones(D)\n",
    "\n",
    "history = np.zeros((0,2))"
   ]
  },
  {
   "cell_type": "code",
   "execution_count": 51,
   "metadata": {},
   "outputs": [
    {
     "name": "stdout",
     "output_type": "stream",
     "text": [
      "iter = 0 loss = 112.0639816077075\n",
      "iter = 100 loss = 25.358934200838437\n",
      "iter = 200 loss = 16.39105485058605\n",
      "iter = 300 loss = 15.403015477091873\n",
      "iter = 400 loss = 15.294135006632079\n",
      "iter = 500 loss = 15.282113695594543\n",
      "iter = 600 loss = 15.280763630069561\n",
      "iter = 700 loss = 15.28058927258608\n",
      "iter = 800 loss = 15.280544476062445\n",
      "iter = 900 loss = 15.280513983829715\n",
      "iter = 1000 loss = 15.280485097737488\n",
      "iter = 1100 loss = 15.280456418763167\n",
      "iter = 1200 loss = 15.280427792737308\n",
      "iter = 1300 loss = 15.280399202639066\n",
      "iter = 1400 loss = 15.280370646557646\n",
      "iter = 1500 loss = 15.280342124247017\n",
      "iter = 1600 loss = 15.28031363564459\n",
      "iter = 1700 loss = 15.280285180708036\n",
      "iter = 1800 loss = 15.280256759397291\n",
      "iter = 1900 loss = 15.280228371672589\n"
     ]
    }
   ],
   "source": [
    "for k in range(iters):\n",
    "    \n",
    "    yp = pred(x2, w)\n",
    "    \n",
    "    yd = yp - yt\n",
    "    \n",
    "    # 경사하강법 적용\n",
    "    w = w - alpha * (x2.T @ yd) / M\n",
    "    \n",
    "    # 학습 곡선 그리기용 데이터의 계산과 저장\n",
    "    if (k % 100 == 0):\n",
    "        \n",
    "        loss = np.mean(yd**2)/2\n",
    "        \n",
    "        history = np.vstack((history, np.array([k, loss])))\n",
    "        \n",
    "        print(f\"iter = {k} loss = {loss}\")"
   ]
  },
  {
   "cell_type": "code",
   "execution_count": 52,
   "metadata": {},
   "outputs": [
    {
     "name": "stdout",
     "output_type": "stream",
     "text": [
      "손실함수 초깃값: 112.063982\n",
      "손실함수 최종값: 15.280228\n"
     ]
    }
   ],
   "source": [
    "# 최종 손실함수 초깃값, 최종값\n",
    "print('손실함수 초깃값: %f' % history[0,1])\n",
    "print('손실함수 최종값: %f' % history[-1,1])"
   ]
  },
  {
   "cell_type": "code",
   "execution_count": 53,
   "metadata": {},
   "outputs": [
    {
     "data": {
      "image/png": "[encoded data removed]",
      "text/plain": [
       "<Figure size 432x288 with 1 Axes>"
      ]
     },
     "metadata": {
      "needs_background": "light"
     },
     "output_type": "display_data"
    }
   ],
   "source": [
    "# 학습 곡선\n",
    "plt.plot(history[:, 0], history[:,1])\n",
    "plt.show()"
   ]
  },
  {
   "cell_type": "markdown",
   "metadata": {},
   "source": [
    "# 로지스틱 회귀 모델(이진 분류)"
   ]
  },
  {
   "cell_type": "code",
   "execution_count": 56,
   "metadata": {},
   "outputs": [
    {
     "data": {
      "image/png": "[encoded data removed]",
      "text/plain": [
       "<Figure size 432x432 with 1 Axes>"
      ]
     },
     "metadata": {
      "needs_background": "light"
     },
     "output_type": "display_data"
    }
   ],
   "source": [
    "# 시그 모이드 함수 그래프\n",
    "\n",
    "xx = np.linspace(-6, 6, 500)\n",
    "yy = 1 / (np.exp(-xx) + 1)\n",
    "\n",
    "plt.figure(figsize=(6,6))\n",
    "plt.ylim(-3, 3)\n",
    "plt.xlim(-3, 3)\n",
    "plt.xticks(np.linspace(-3,3,13))\n",
    "plt.yticks(np.linspace(-3,3,13))\n",
    "plt.xlabel('x', fontsize=14)\n",
    "plt.ylabel('y', fontsize=14)\n",
    "plt.grid()\n",
    "\n",
    "plt.plot(xx, yy, c='b', label=r'$\\dfrac{1}{1+\\exp{(-x)}}$', lw=1)\n",
    "plt.plot(xx, xx, c='k', label=r'$y = x$', lw=1)\n",
    "plt.plot([-3,3], [0,0], c='k')\n",
    "plt.plot([0,0], [-3,3],c='k')\n",
    "plt.plot([-3,3],[1,1],linestyle='-.',c='k')\n",
    "plt.legend(fontsize=14)\n",
    "plt.show()"
   ]
  },
  {
   "cell_type": "markdown",
   "metadata": {},
   "source": [
    "## 아리리스 분류"
   ]
  },
  {
   "cell_type": "code",
   "execution_count": 57,
   "metadata": {},
   "outputs": [
    {
     "name": "stdout",
     "output_type": "stream",
     "text": [
      "원본 데이터 (150, 4) (150,)\n"
     ]
    }
   ],
   "source": [
    "from sklearn.datasets import load_iris\n",
    "iris = load_iris()\n",
    "x_org, y_org = iris.data, iris.target\n",
    "print('원본 데이터', x_org.shape, y_org.shape)"
   ]
  },
  {
   "cell_type": "code",
   "execution_count": 58,
   "metadata": {},
   "outputs": [
    {
     "name": "stdout",
     "output_type": "stream",
     "text": [
      "대상 데이터 (100, 2) (100,)\n"
     ]
    }
   ],
   "source": [
    "# 데이터 추출\n",
    "\n",
    "x_data, y_data = iris.data[:100, :2], iris.target[:100]\n",
    "print('대상 데이터', x_data.shape, y_data.shape)"
   ]
  },
  {
   "cell_type": "code",
   "execution_count": 59,
   "metadata": {},
   "outputs": [
    {
     "name": "stdout",
     "output_type": "stream",
     "text": [
      "더미 변수를 추가 한 후 (100, 3)\n"
     ]
    }
   ],
   "source": [
    "# 더미 변수 추가\n",
    "x_data = np.insert(x_data, 0, 1.0, axis=1)\n",
    "print('더미 변수를 추가 한 후', x_data.shape)"
   ]
  },
  {
   "cell_type": "code",
   "execution_count": 60,
   "metadata": {},
   "outputs": [
    {
     "name": "stdout",
     "output_type": "stream",
     "text": [
      "(70, 3) (30, 3) (70,) (30,)\n"
     ]
    }
   ],
   "source": [
    "# 학습 데이터, 검증 데이터 분할(셔플도 함께 실시)\n",
    "from sklearn.model_selection import train_test_split\n",
    "\n",
    "x_train, x_test, y_train, y_test = train_test_split(x_data, y_data, train_size=70, test_size=30, random_state=123)\n",
    "print(x_train.shape, x_test.shape, y_train.shape, y_test.shape)"
   ]
  },
  {
   "cell_type": "code",
   "execution_count": 61,
   "metadata": {},
   "outputs": [],
   "source": [
    "# 학습용 변수 설정\n",
    "x = x_train\n",
    "yt = y_train"
   ]
  },
  {
   "cell_type": "code",
   "execution_count": 62,
   "metadata": {},
   "outputs": [],
   "source": [
    "# 시그모이드 함수\n",
    "\n",
    "def sigmoid(x):\n",
    "    return 1/(1 + np.exp(-x))\n",
    "\n",
    "# 예측값 계산\n",
    "\n",
    "def pred(x, w):\n",
    "    return sigmoid(x @ w)"
   ]
  },
  {
   "cell_type": "code",
   "execution_count": 67,
   "metadata": {},
   "outputs": [],
   "source": [
    "# 손실함수(교차 엔트로피 함수)\n",
    "\n",
    "def cross_entropy(yt, yp):\n",
    "    ce1 = -(yt * np.log(yp) + (1-yt)*(np.log(1-yp)))\n",
    "    \n",
    "    # 교차 엔트로피 벡터의 평균값 계산\n",
    "    return (np.mean(ce1))"
   ]
  },
  {
   "cell_type": "code",
   "execution_count": 68,
   "metadata": {},
   "outputs": [],
   "source": [
    "# 예측 결과의 확률값에서 0이나 1을 판단하는 함수\n",
    "\n",
    "def classify(y):\n",
    "    return np.where(y < 0.5, 0, 1)"
   ]
  },
  {
   "cell_type": "code",
   "execution_count": 69,
   "metadata": {},
   "outputs": [],
   "source": [
    "# 모델 평가 함수\n",
    "from sklearn.metrics import accuracy_score\n",
    "\n",
    "def evaluate(xt, yt, w):\n",
    "    \n",
    "    # 예측값 계산\n",
    "    yp = pred(xt, w)\n",
    "    \n",
    "    # 손실함수 값 계산\n",
    "    loss = cross_entropy(yt, yp)\n",
    "    \n",
    "    # 예측값(확률값)을 0이나 1로 변환\n",
    "    yp_b = classify(yp)\n",
    "    \n",
    "    # 정확도 산출\n",
    "    score = accuracy_score(yt, yp_b)\n",
    "    return loss, score"
   ]
  },
  {
   "cell_type": "markdown",
   "metadata": {},
   "source": [
    "### 초기화 처리"
   ]
  },
  {
   "cell_type": "code",
   "execution_count": 73,
   "metadata": {},
   "outputs": [],
   "source": [
    "# 표본 수 \n",
    "M = x.shape[0]\n",
    "# 입력 차원 수(더미 변수 포함)\n",
    "D = x.shape[1]\n",
    "\n",
    "# 반복 횟수\n",
    "iters = 10000\n",
    "\n",
    "# 학습률\n",
    "alpha = 0.01\n",
    "\n",
    "# 초깃값\n",
    "w = np.ones(D)\n",
    "\n",
    "# 평가 결과 기록(손실함수와 정확도)\n",
    "history = np.zeros((0,3))"
   ]
  },
  {
   "cell_type": "markdown",
   "metadata": {},
   "source": [
    "### 주요 처리"
   ]
  },
  {
   "cell_type": "code",
   "execution_count": 74,
   "metadata": {},
   "outputs": [
    {
     "name": "stdout",
     "output_type": "stream",
     "text": [
      "iter = 0 loss = 4.4938418186342695 score = 0.5\n",
      "iter = 100 loss = 0.7409788485045926 score = 0.13333333333333333\n",
      "iter = 200 loss = 0.6774930581665342 score = 0.7\n",
      "iter = 300 loss = 0.6235435809786555 score = 0.9\n",
      "iter = 400 loss = 0.5776157672345783 score = 0.9333333333333333\n",
      "iter = 500 loss = 0.5383281301748647 score = 0.9333333333333333\n",
      "iter = 600 loss = 0.5045229597000369 score = 0.9333333333333333\n",
      "iter = 700 loss = 0.4752489367663842 score = 0.9333333333333333\n",
      "iter = 800 loss = 0.4497325546393153 score = 0.9333333333333333\n",
      "iter = 900 loss = 0.42734764429053146 score = 0.9666666666666667\n",
      "iter = 1000 loss = 0.40758745483268555 score = 0.9666666666666667\n",
      "iter = 1100 loss = 0.39004089598350233 score = 0.9666666666666667\n",
      "iter = 1200 loss = 0.374373112839896 score = 0.9666666666666667\n",
      "iter = 1300 loss = 0.36030994853028453 score = 0.9666666666666667\n",
      "iter = 1400 loss = 0.3476256598076243 score = 0.9666666666666667\n",
      "iter = 1500 loss = 0.336133254886928 score = 0.9666666666666667\n",
      "iter = 1600 loss = 0.32567690250804976 score = 0.9666666666666667\n",
      "iter = 1700 loss = 0.3161259595594469 score = 0.9666666666666667\n",
      "iter = 1800 loss = 0.3073702574327049 score = 0.9666666666666667\n",
      "iter = 1900 loss = 0.29931636618993523 score = 0.9666666666666667\n",
      "iter = 2000 loss = 0.29188461930799203 score = 0.9666666666666667\n",
      "iter = 2100 loss = 0.2850067317245997 score = 0.9666666666666667\n",
      "iter = 2200 loss = 0.2786238825014576 score = 0.9666666666666667\n",
      "iter = 2300 loss = 0.27268516298219486 score = 0.9666666666666667\n",
      "iter = 2400 loss = 0.26714631388815835 score = 0.9666666666666667\n",
      "iter = 2500 loss = 0.2619686920071555 score = 0.9666666666666667\n",
      "iter = 2600 loss = 0.25711842027609005 score = 0.9666666666666667\n",
      "iter = 2700 loss = 0.25256568512460686 score = 0.9666666666666667\n",
      "iter = 2800 loss = 0.24828415268158405 score = 0.9666666666666667\n",
      "iter = 2900 loss = 0.2442504814136643 score = 0.9666666666666667\n",
      "iter = 3000 loss = 0.24044391338921142 score = 0.9666666666666667\n",
      "iter = 3100 loss = 0.23684592996113019 score = 0.9666666666666667\n",
      "iter = 3200 loss = 0.23343996047809806 score = 0.9666666666666667\n",
      "iter = 3300 loss = 0.23021113484728686 score = 0.9666666666666667\n",
      "iter = 3400 loss = 0.22714607251992294 score = 0.9666666666666667\n",
      "iter = 3500 loss = 0.22423270185843544 score = 0.9666666666666667\n",
      "iter = 3600 loss = 0.22146010495015736 score = 0.9666666666666667\n",
      "iter = 3700 loss = 0.21881838381861565 score = 0.9666666666666667\n",
      "iter = 3800 loss = 0.2162985446964106 score = 0.9666666666666667\n",
      "iter = 3900 loss = 0.2138923975998637 score = 0.9666666666666667\n",
      "iter = 4000 loss = 0.2115924689132541 score = 0.9666666666666667\n",
      "iter = 4100 loss = 0.2093919250715982 score = 0.9666666666666667\n",
      "iter = 4200 loss = 0.20728450574279536 score = 0.9666666666666667\n",
      "iter = 4300 loss = 0.20526446516616517 score = 0.9666666666666667\n",
      "iter = 4400 loss = 0.20332652051567798 score = 0.9666666666666667\n",
      "iter = 4500 loss = 0.20146580633102967 score = 0.9666666666666667\n",
      "iter = 4600 loss = 0.19967783420495497 score = 0.9666666666666667\n",
      "iter = 4700 loss = 0.1979584570362232 score = 0.9666666666666667\n",
      "iter = 4800 loss = 0.19630383725898423 score = 0.9666666666666667\n",
      "iter = 4900 loss = 0.19471041854407137 score = 0.9666666666666667\n",
      "iter = 5000 loss = 0.19317490053933284 score = 0.9666666666666667\n",
      "iter = 5100 loss = 0.1916942162764058 score = 0.9666666666666667\n",
      "iter = 5200 loss = 0.19026551192242855 score = 0.9666666666666667\n",
      "iter = 5300 loss = 0.18888612859855813 score = 0.9666666666666667\n",
      "iter = 5400 loss = 0.1875535860240905 score = 0.9666666666666667\n",
      "iter = 5500 loss = 0.18626556777650116 score = 0.9666666666666667\n",
      "iter = 5600 loss = 0.18501990798471327 score = 0.9666666666666667\n",
      "iter = 5700 loss = 0.18381457929604345 score = 0.9666666666666667\n",
      "iter = 5800 loss = 0.18264768197719955 score = 0.9666666666666667\n",
      "iter = 5900 loss = 0.18151743402687068 score = 0.9666666666666667\n",
      "iter = 6000 loss = 0.18042216219229054 score = 0.9666666666666667\n",
      "iter = 6100 loss = 0.1793602937950079 score = 0.9666666666666667\n",
      "iter = 6200 loss = 0.1783303492822541 score = 0.9666666666666667\n",
      "iter = 6300 loss = 0.17733093543000455 score = 0.9666666666666667\n",
      "iter = 6400 loss = 0.17636073913228634 score = 0.9666666666666667\n",
      "iter = 6500 loss = 0.17541852171867411 score = 0.9666666666666667\n",
      "iter = 6600 loss = 0.17450311374838395 score = 0.9666666666666667\n",
      "iter = 6700 loss = 0.17361341023503934 score = 0.9666666666666667\n",
      "iter = 6800 loss = 0.17274836626116383 score = 0.9666666666666667\n",
      "iter = 6900 loss = 0.1719069929458377 score = 0.9666666666666667\n",
      "iter = 7000 loss = 0.17108835373281348 score = 0.9666666666666667\n",
      "iter = 7100 loss = 0.17029156096980205 score = 0.9666666666666667\n",
      "iter = 7200 loss = 0.169515772752647 score = 0.9666666666666667\n",
      "iter = 7300 loss = 0.16876019001078826 score = 0.9666666666666667\n",
      "iter = 7400 loss = 0.1680240538127761 score = 0.9666666666666667\n",
      "iter = 7500 loss = 0.1673066428727069 score = 0.9666666666666667\n",
      "iter = 7600 loss = 0.16660727124033106 score = 0.9666666666666667\n",
      "iter = 7700 loss = 0.16592528615924676 score = 0.9666666666666667\n",
      "iter = 7800 loss = 0.16526006607908608 score = 0.9666666666666667\n",
      "iter = 7900 loss = 0.16461101880894122 score = 0.9666666666666667\n",
      "iter = 8000 loss = 0.16397757980045682 score = 0.9666666666666667\n",
      "iter = 8100 loss = 0.16335921055009622 score = 0.9666666666666667\n",
      "iter = 8200 loss = 0.1627553971110433 score = 0.9666666666666667\n",
      "iter = 8300 loss = 0.16216564870606043 score = 0.9666666666666667\n",
      "iter = 8400 loss = 0.16158949643340675 score = 0.9666666666666667\n",
      "iter = 8500 loss = 0.16102649205860983 score = 0.9666666666666667\n",
      "iter = 8600 loss = 0.16047620688552142 score = 0.9666666666666667\n",
      "iter = 8700 loss = 0.15993823070065086 score = 0.9666666666666667\n",
      "iter = 8800 loss = 0.1594121707852871 score = 0.9666666666666667\n",
      "iter = 8900 loss = 0.158897650990382 score = 0.9666666666666667\n",
      "iter = 9000 loss = 0.15839431086959602 score = 0.9666666666666667\n",
      "iter = 9100 loss = 0.15790180486627417 score = 0.9666666666666667\n",
      "iter = 9200 loss = 0.15741980155048654 score = 0.9666666666666667\n",
      "iter = 9300 loss = 0.15694798290256692 score = 0.9666666666666667\n",
      "iter = 9400 loss = 0.15648604363987617 score = 0.9666666666666667\n",
      "iter = 9500 loss = 0.15603369058377686 score = 0.9666666666666667\n",
      "iter = 9600 loss = 0.15559064206404563 score = 0.9666666666666667\n",
      "iter = 9700 loss = 0.15515662735815947 score = 0.9666666666666667\n",
      "iter = 9800 loss = 0.15473138616310006 score = 0.9666666666666667\n",
      "iter = 9900 loss = 0.15431466809749284 score = 0.9666666666666667\n"
     ]
    }
   ],
   "source": [
    "# 반복 루프\n",
    "\n",
    "for k in range(iters):\n",
    "    \n",
    "    # 예측값 계산\n",
    "    yp = pred(x, w)\n",
    "    \n",
    "    # 오차 계산\n",
    "    yd = yp - yt\n",
    "    \n",
    "    # 경사하강법 적용\n",
    "    w = w - alpha * (x.T @ yd) / M\n",
    "    \n",
    "    # 평가 기록\n",
    "    if (k % 100 == 0):\n",
    "        loss, score = evaluate(x_test, y_test, w)\n",
    "        history = np.vstack((history, np.array([k, loss, score])))\n",
    "        print(f\"iter = {k} loss = {loss} score = {score}\")"
   ]
  },
  {
   "cell_type": "code",
   "execution_count": 75,
   "metadata": {},
   "outputs": [
    {
     "name": "stdout",
     "output_type": "stream",
     "text": [
      "[초기 상태] 손실함수: 4.4938418186342695, 정확도: 0.5\n",
      "[최종 상태] 손실함수: 0.15431466809749284, 정확도: 0.9666666666666667\n"
     ]
    }
   ],
   "source": [
    "# 손실함수의 값과 정확도 점검\n",
    "\n",
    "print(f'[초기 상태] 손실함수: {history[0,1]}, 정확도: {history[0,2]}')\n",
    "print(f'[최종 상태] 손실함수: {history[-1,1]}, 정확도: {history[-1,2]}')"
   ]
  },
  {
   "cell_type": "markdown",
   "metadata": {},
   "source": [
    "### 산점도와 결정경계의 표시"
   ]
  },
  {
   "cell_type": "code",
   "execution_count": 76,
   "metadata": {},
   "outputs": [],
   "source": [
    "# 검증 데이터\n",
    "x_t0 = x_test[y_test==0]\n",
    "x_t1 = x_test[y_test==1]\n",
    "\n",
    "# 결정경계를 그리기 위해 x1의 값에서 x2의 값을 계산\n",
    "def b(x, w):\n",
    "    return(-(w[0] + w[1] * x)/ w[2])\n",
    "\n",
    "# 산점도 x1의 최솟값과 최댓값\n",
    "x1 = np.asarray([x[:,1].min(), x[:,1].max()])\n",
    "y1 = b(x1, w)"
   ]
  },
  {
   "cell_type": "code",
   "execution_count": 78,
   "metadata": {},
   "outputs": [
    {
     "data": {
      "image/png": "[encoded data removed]",
      "text/plain": [
       "<Figure size 432x432 with 1 Axes>"
      ]
     },
     "metadata": {
      "needs_background": "light"
     },
     "output_type": "display_data"
    }
   ],
   "source": [
    "plt.figure(figsize=(6,6))\n",
    "# 산점도 표시\n",
    "plt.scatter(x_t0[:,1], x_t0[:,2], marker='x', \n",
    "        c='b', s=50, label='class 0')\n",
    "plt.scatter(x_t1[:,1], x_t1[:,2], marker='o', \n",
    "        c='k', s=50, label='class 1')\n",
    "# 산점도에 결정경계 직선을 추가\n",
    "plt.plot(x1, y1, c='b')\n",
    "plt.xlabel('sepal_length', fontsize=14)\n",
    "plt.ylabel('sepal_width', fontsize=14)\n",
    "plt.xticks(size=16)\n",
    "plt.yticks(size=16)\n",
    "plt.legend(fontsize=16)\n",
    "plt.show()"
   ]
  },
  {
   "cell_type": "markdown",
   "metadata": {},
   "source": [
    "### 학습곡선 표시"
   ]
  },
  {
   "cell_type": "code",
   "execution_count": 79,
   "metadata": {},
   "outputs": [
    {
     "data": {
      "image/png": "[encoded data removed]",
      "text/plain": [
       "<Figure size 432x288 with 1 Axes>"
      ]
     },
     "metadata": {
      "needs_background": "light"
     },
     "output_type": "display_data"
    }
   ],
   "source": [
    "# 학습 곡선 표시(손실 함수)\n",
    "plt.figure(figsize=(6,4))\n",
    "plt.plot(history[:,0], history[:,1], 'b')\n",
    "plt.xlabel('iter', fontsize=14)\n",
    "plt.ylabel('cost', fontsize=14)\n",
    "plt.title('iter vs cost', fontsize=14)\n",
    "plt.show()"
   ]
  },
  {
   "cell_type": "code",
   "execution_count": 80,
   "metadata": {},
   "outputs": [
    {
     "data": {
      "image/png": "[encoded data removed]",
      "text/plain": [
       "<Figure size 432x288 with 1 Axes>"
      ]
     },
     "metadata": {
      "needs_background": "light"
     },
     "output_type": "display_data"
    }
   ],
   "source": [
    "# 학습 곡선 표시(정확도)\n",
    "plt.figure(figsize=(6,4))\n",
    "plt.plot(history[:,0], history[:,1], 'b')\n",
    "plt.xlabel('iter', fontsize=14)\n",
    "plt.ylabel('cost', fontsize=14)\n",
    "plt.title('iter vs cost', fontsize=14)\n",
    "plt.show()"
   ]
  },
  {
   "cell_type": "markdown",
   "metadata": {},
   "source": [
    "## Sklearn 라이브러리 사용"
   ]
  },
  {
   "cell_type": "code",
   "execution_count": 82,
   "metadata": {},
   "outputs": [
    {
     "data": {
      "text/plain": [
       "SVC(C=1.0, break_ties=False, cache_size=200, class_weight=None, coef0=0.0,\n",
       "    decision_function_shape='ovr', degree=3, gamma='scale', kernel='linear',\n",
       "    max_iter=-1, probability=False, random_state=None, shrinking=True,\n",
       "    tol=0.001, verbose=False)"
      ]
     },
     "execution_count": 82,
     "metadata": {},
     "output_type": "execute_result"
    }
   ],
   "source": [
    "from sklearn.linear_model import LogisticRegression\n",
    "from sklearn import svm\n",
    "\n",
    "# 모델 생성\n",
    "model_lr = LogisticRegression(solver='liblinear')\n",
    "model_svm = svm.SVC(kernel='linear')\n",
    "\n",
    "# 기계 학십\n",
    "model_lr.fit(x, yt)\n",
    "model_svm.fit(x, yt)"
   ]
  },
  {
   "cell_type": "code",
   "execution_count": 83,
   "metadata": {},
   "outputs": [],
   "source": [
    "# 선형 회귀\n",
    "# 절편의 값\n",
    "lr_w0 = model_lr.intercept_[0]\n",
    "# x1(sepal_length)의 계수\n",
    "lr_w1 = model_lr.coef_[0,1]\n",
    "# x2(sepal_width)의 계수\n",
    "lr_w2 = model_lr.coef_[0,2]\n",
    "\n",
    "# SVM\n",
    "# 절편의 값\n",
    "svm_w0 = model_svm.intercept_[0]\n",
    "# x1(sepal_length)의 계수\n",
    "svm_w1 = model_svm.coef_[0,1]\n",
    "# x2(sepal_width)의 계수\n",
    "svm_w2 = model_svm.coef_[0,2]"
   ]
  },
  {
   "cell_type": "code",
   "execution_count": 85,
   "metadata": {},
   "outputs": [],
   "source": [
    "# 한계 직선 그리기용 x1의 값에서 x2의 값을 계산\n",
    "\n",
    "def r1(x):\n",
    "    wk = lr_w0 + lr_w1 * x\n",
    "    wk2 = -wk / lr_w2\n",
    "    return (wk2)"
   ]
  },
  {
   "cell_type": "code",
   "execution_count": 88,
   "metadata": {},
   "outputs": [],
   "source": [
    "# 한계 직선 그리기용 x1의 값에서 x2의 값을 꼐산\n",
    "\n",
    "def svm(x):\n",
    "    wk = svm_w0 + svm_w1 * x\n",
    "    wk2 = -wk / svm_w2\n",
    "    return (wk2)"
   ]
  },
  {
   "cell_type": "code",
   "execution_count": 89,
   "metadata": {},
   "outputs": [
    {
     "name": "stdout",
     "output_type": "stream",
     "text": [
      "[4.3 6.9] [2.47353128 3.93052473] [2.50344682 4.05984593] [2.17911792 4.42574136]\n"
     ]
    }
   ],
   "source": [
    "y_r1 = r1(x1)\n",
    "y_svm = svm(x1)\n",
    "\n",
    "# 결과 확싱ㄴ\n",
    "print(x1, y1, y_r1, y_svm)"
   ]
  },
  {
   "cell_type": "code",
   "execution_count": 91,
   "metadata": {},
   "outputs": [
    {
     "data": {
      "image/png": "[encoded data removed]",
      "text/plain": [
       "<Figure size 432x432 with 1 Axes>"
      ]
     },
     "metadata": {
      "needs_background": "light"
     },
     "output_type": "display_data"
    }
   ],
   "source": [
    "# 산점도에 한계 직선 추가\n",
    "fig = plt.figure(figsize=(6,6))\n",
    "ax = fig.add_subplot(1,1,1)\n",
    "# 산점도의 표시\n",
    "plt.scatter(x_t0[:,1], x_t0[:,2], marker='x', c='b')\n",
    "plt.scatter(x_t1[:,1], x_t1[:,2], marker='o', c='k')\n",
    "# 한계 직선의 표시\n",
    "ax.plot(x1, y1, linewidth=2, c='k', label='Hands On')\n",
    "# lr model\n",
    "ax.plot(x1, y_r1, linewidth=2, c='k', linestyle=\"--\", label='scikit LR')\n",
    "# svm\n",
    "ax.plot(x1, y_svm, linewidth=2, c='k', linestyle=\"-.\", label='scikit SVM')\n",
    "\n",
    "ax.legend()\n",
    "ax.set_xlabel('$x_1$', fontsize=16)\n",
    "ax.set_ylabel('$x_2$', fontsize=16)\n",
    "plt.show()"
   ]
  },
  {
   "cell_type": "code",
   "execution_count": null,
   "metadata": {},
   "outputs": [],
   "source": []
  }
 ],
 "metadata": {
  "kernelspec": {
   "display_name": "Python 3",
   "language": "python",
   "name": "python3"
  },
  "language_info": {
   "codemirror_mode": {
    "name": "ipython",
    "version": 3
   },
   "file_extension": ".py",
   "mimetype": "text/x-python",
   "name": "python",
   "nbconvert_exporter": "python",
   "pygments_lexer": "ipython3",
   "version": "3.7.6"
  }
 },
 "nbformat": 4,
 "nbformat_minor": 4
}
